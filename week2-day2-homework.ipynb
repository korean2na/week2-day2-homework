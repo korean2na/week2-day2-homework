{
 "cells": [
  {
   "cell_type": "markdown",
   "metadata": {},
   "source": [
    "# Functions, Scoping, Data Collections 1 & List Comprehensions"
   ]
  },
  {
   "cell_type": "markdown",
   "metadata": {},
   "source": [
    "## Tasks Today:\n",
    "\n",
    "<i>Monday Additions (or, and ... if statements)</i>\n",
    "\n",
    "1) String Manipulation <br>\n",
    " &nbsp;&nbsp;&nbsp;&nbsp; a) strip() <br>\n",
    " &nbsp;&nbsp;&nbsp;&nbsp; b) title() <br>\n",
    "2) Working With Lists <br>\n",
    " &nbsp;&nbsp;&nbsp;&nbsp; a) min() <br>\n",
    " &nbsp;&nbsp;&nbsp;&nbsp; b) max() <br>\n",
    " &nbsp;&nbsp;&nbsp;&nbsp; c) sum() <br>\n",
    " &nbsp;&nbsp;&nbsp;&nbsp; d) sort() <br>\n",
    " &nbsp;&nbsp;&nbsp;&nbsp; e) Copying a List <br>\n",
    " &nbsp;&nbsp;&nbsp;&nbsp; f) 'in' keyword <br>\n",
    " &nbsp;&nbsp;&nbsp;&nbsp; g) 'not in' keyword <br>\n",
    " &nbsp;&nbsp;&nbsp;&nbsp; i) Checking an Empty List <br>\n",
    " &nbsp;&nbsp;&nbsp;&nbsp; j) Removing Instances with a Loop <br>\n",
    "3) List Comprehensions <br>\n",
    "4) Tuples <br>\n",
    " &nbsp;&nbsp;&nbsp;&nbsp; a) sorted() <br>\n",
    "5) Functions <br>\n",
    " &nbsp;&nbsp;&nbsp;&nbsp; a) User-Defined vs. Built-In Functions <br>\n",
    " &nbsp;&nbsp;&nbsp;&nbsp; b) Accepting Parameters <br>\n",
    " &nbsp;&nbsp;&nbsp;&nbsp; c) Default Parameters <br>\n",
    " &nbsp;&nbsp;&nbsp;&nbsp; d) Making an Argument Optional <br>\n",
    " &nbsp;&nbsp;&nbsp;&nbsp; e) Keyword Arguments <br>\n",
    " &nbsp;&nbsp;&nbsp;&nbsp; f) Returning Values <br>\n",
    " &nbsp;&nbsp;&nbsp;&nbsp; g) *args <br>\n",
    " &nbsp;&nbsp;&nbsp;&nbsp; h) Docstring <br>\n",
    " &nbsp;&nbsp;&nbsp;&nbsp; i) Using a User Function in a Loop <br>\n",
    "6) Scope"
   ]
  },
  {
   "cell_type": "markdown",
   "metadata": {},
   "source": [
    "### String Manipulation"
   ]
  },
  {
   "cell_type": "markdown",
   "metadata": {},
   "source": [
    "##### .lstrip()"
   ]
  },
  {
   "cell_type": "code",
   "execution_count": 2,
   "metadata": {},
   "outputs": [
    {
     "name": "stdout",
     "output_type": "stream",
     "text": [
      "John Smith\n"
     ]
    }
   ],
   "source": [
    "# string.lstrip()\n",
    "\n",
    "name = '        hJohn Smith'\n",
    "# print(name.lstrip(' ' 'h'))\n",
    "print(name.lstrip(' h'))"
   ]
  },
  {
   "cell_type": "markdown",
   "metadata": {},
   "source": [
    "##### .rstrip()"
   ]
  },
  {
   "cell_type": "code",
   "execution_count": 3,
   "metadata": {},
   "outputs": [
    {
     "name": "stdout",
     "output_type": "stream",
     "text": [
      "Bill Ross\n"
     ]
    }
   ],
   "source": [
    "# string.rstrip()\n",
    "\n",
    "name = 'Bill Ross      th'\n",
    "print(name.rstrip(' th'))"
   ]
  },
  {
   "cell_type": "markdown",
   "metadata": {},
   "source": [
    "##### .strip()"
   ]
  },
  {
   "cell_type": "code",
   "execution_count": 7,
   "metadata": {},
   "outputs": [
    {
     "name": "stdout",
     "output_type": "stream",
     "text": [
      "John Smith\n"
     ]
    }
   ],
   "source": [
    "# string.strip()\n",
    "\n",
    "# name = '    John Smith     th'\n",
    "# print(name.strip(' ' 'th'))\n",
    "\n",
    "name = '    John Smith     is'\n",
    "print(name.strip(' ' 'is'))"
   ]
  },
  {
   "cell_type": "markdown",
   "metadata": {},
   "source": [
    "##### .title()"
   ]
  },
  {
   "cell_type": "code",
   "execution_count": 8,
   "metadata": {},
   "outputs": [
    {
     "name": "stdout",
     "output_type": "stream",
     "text": [
      "Barack Obama\n"
     ]
    }
   ],
   "source": [
    "# string.title()\n",
    "\n",
    "pres = 'barack obama'\n",
    "print(pres.title())"
   ]
  },
  {
   "cell_type": "markdown",
   "metadata": {},
   "source": [
    "### String Exercise <br>\n",
    "<p>Strip all white space and capitalize every name in the list given</p>"
   ]
  },
  {
   "cell_type": "code",
   "execution_count": 13,
   "metadata": {},
   "outputs": [
    {
     "name": "stdout",
     "output_type": "stream",
     "text": [
      "['Connor', 'Max', 'Evan', 'Jordan']\n"
     ]
    }
   ],
   "source": [
    "names = ['    coNNor', 'max', ' EVan ', 'JORDAN']\n",
    "# HINT: You will need to use a for loop for iteration\n",
    "\n",
    "cap_names = []\n",
    "for n in names:\n",
    "    cap_names.append(n.title().strip())\n",
    "\n",
    "# cap_nospace = []\n",
    "# for s in cap_names:\n",
    "#     cap_nospace.append(s.strip())\n",
    "    \n",
    "print(cap_names)"
   ]
  },
  {
   "cell_type": "markdown",
   "metadata": {},
   "source": [
    "### Working With Lists"
   ]
  },
  {
   "cell_type": "markdown",
   "metadata": {},
   "source": [
    "##### min()"
   ]
  },
  {
   "cell_type": "code",
   "execution_count": 14,
   "metadata": {},
   "outputs": [
    {
     "name": "stdout",
     "output_type": "stream",
     "text": [
      "2\n"
     ]
    }
   ],
   "source": [
    "# min(list)\n",
    "\n",
    "numbers = [2, 3, 31, 33, 69, 420]\n",
    "print(min(numbers))"
   ]
  },
  {
   "cell_type": "markdown",
   "metadata": {},
   "source": [
    "##### max()"
   ]
  },
  {
   "cell_type": "code",
   "execution_count": 15,
   "metadata": {},
   "outputs": [
    {
     "name": "stdout",
     "output_type": "stream",
     "text": [
      "420\n"
     ]
    }
   ],
   "source": [
    "# max(list)\n",
    "\n",
    "numbers = [2, 3, 31, 33, 69, 420]\n",
    "print(max(numbers))"
   ]
  },
  {
   "cell_type": "markdown",
   "metadata": {},
   "source": [
    "##### sum()"
   ]
  },
  {
   "cell_type": "code",
   "execution_count": 16,
   "metadata": {},
   "outputs": [
    {
     "name": "stdout",
     "output_type": "stream",
     "text": [
      "558\n"
     ]
    }
   ],
   "source": [
    "# sum(list)\n",
    "\n",
    "numbers = [2, 3, 31, 33, 69, 420]\n",
    "print(sum(numbers))"
   ]
  },
  {
   "cell_type": "markdown",
   "metadata": {},
   "source": [
    "##### sorted()"
   ]
  },
  {
   "cell_type": "code",
   "execution_count": 19,
   "metadata": {},
   "outputs": [
    {
     "name": "stdout",
     "output_type": "stream",
     "text": [
      "[2, 3, 31, 33, 69, 420]\n",
      "[2, 3, 69, 420, 31, 33]\n"
     ]
    }
   ],
   "source": [
    "# sorted(list)\n",
    "\n",
    "numbers = [2, 3, 69, 420, 31, 33]\n",
    "# sorted numbers\n",
    "print(sorted(numbers))\n",
    "# numbers remains unchanged\n",
    "print(numbers)"
   ]
  },
  {
   "cell_type": "markdown",
   "metadata": {},
   "source": [
    "##### .sort() <br>\n",
    "<p>Difference between sort and sorted, is that sorted doesn't change original list it returns a copy, while .sort changes the original list</p>"
   ]
  },
  {
   "cell_type": "code",
   "execution_count": 20,
   "metadata": {},
   "outputs": [
    {
     "name": "stdout",
     "output_type": "stream",
     "text": [
      "None\n",
      "[2, 3, 31, 33, 69, 420]\n"
     ]
    }
   ],
   "source": [
    "# list.sort()\n",
    "\n",
    "numbers = [2, 3, 69, 420, 31, 33]\n",
    "print(numbers.sort())\n",
    "print(numbers)\n",
    "\n",
    "# use sorted when you don't want to alter original list, use .sort() when you want to alter original list"
   ]
  },
  {
   "cell_type": "markdown",
   "metadata": {},
   "source": [
    "##### Copying a List"
   ]
  },
  {
   "cell_type": "code",
   "execution_count": 22,
   "metadata": {},
   "outputs": [
    {
     "name": "stdout",
     "output_type": "stream",
     "text": [
      "[2, 3, 31, 33, 69, 420] [2, 3, 31, 33, 69, 420]\n"
     ]
    }
   ],
   "source": [
    "# [:] copies a list, doesn't alter original\n",
    "\n",
    "copy_numbers = numbers [:]\n",
    "print(numbers, copy_numbers)"
   ]
  },
  {
   "cell_type": "markdown",
   "metadata": {},
   "source": [
    "##### 'in' keyword"
   ]
  },
  {
   "cell_type": "code",
   "execution_count": 25,
   "metadata": {},
   "outputs": [
    {
     "name": "stdout",
     "output_type": "stream",
     "text": [
      "Not Found\n",
      "Not Found\n",
      "Found\n",
      "Not Found\n",
      "Not Found\n"
     ]
    }
   ],
   "source": [
    "teachers = ['Lucas', 'Ryan', 'Christopher', 'Dylan', 'Shoha']\n",
    "\n",
    "for name in teachers:\n",
    "    if 'C' in name[0]:\n",
    "        print('Found')\n",
    "    else:\n",
    "        print('Not Found')"
   ]
  },
  {
   "cell_type": "markdown",
   "metadata": {},
   "source": [
    "##### 'not in' keyword"
   ]
  },
  {
   "cell_type": "code",
   "execution_count": 26,
   "metadata": {},
   "outputs": [
    {
     "name": "stdout",
     "output_type": "stream",
     "text": [
      "Not a CT teacher.\n"
     ]
    }
   ],
   "source": [
    "if 'Zack' not in teachers:\n",
    "    print('Not a CT teacher.')"
   ]
  },
  {
   "cell_type": "markdown",
   "metadata": {},
   "source": [
    "##### Checking an Empty List"
   ]
  },
  {
   "cell_type": "code",
   "execution_count": 27,
   "metadata": {},
   "outputs": [
    {
     "name": "stdout",
     "output_type": "stream",
     "text": [
      "2nd not empty list\n"
     ]
    }
   ],
   "source": [
    "# if l_1: or if l_1 = []\n",
    "\n",
    "if []:\n",
    "    print('Not empty list')\n",
    "if ['a']:\n",
    "    print('2nd not empty list')"
   ]
  },
  {
   "cell_type": "markdown",
   "metadata": {},
   "source": [
    "##### Removing Instances with a Loop"
   ]
  },
  {
   "cell_type": "code",
   "execution_count": 36,
   "metadata": {},
   "outputs": [
    {
     "name": "stdout",
     "output_type": "stream",
     "text": [
      "['Connor', 'Joel', 'Max', 'Shawn', 'Jordan', 'Connor', 'Connor']\n",
      "\n",
      "['Joel', 'Max', 'Shawn', 'Jordan', 'Connor', 'Connor']\n",
      "['Joel', 'Max', 'Shawn', 'Jordan', 'Connor']\n",
      "['Joel', 'Max', 'Shawn', 'Jordan']\n"
     ]
    }
   ],
   "source": [
    "# while, remove\n",
    "\n",
    "names = ['Connor', 'Joel', 'Max', 'Shawn', 'Jordan', 'Connor', 'Connor']\n",
    "print(names)\n",
    "print()\n",
    "\n",
    "# names.remove('Connor')\n",
    "# print(names)\n",
    "\n",
    "while 'Connor' in names:\n",
    "    names.remove('Connor')\n",
    "    print(names)"
   ]
  },
  {
   "cell_type": "markdown",
   "metadata": {},
   "source": [
    "### List Exercise <br>\n",
    "<p>Remove all duplicates<br><b>Extra: Create a program that will remove any duplicates from a given list</b></p>"
   ]
  },
  {
   "cell_type": "code",
   "execution_count": 46,
   "metadata": {},
   "outputs": [
    {
     "name": "stdout",
     "output_type": "stream",
     "text": [
      "['Connor', 'Bob', 'Evan', 'Max', 2, 3, 4, 'Kevin']\n"
     ]
    }
   ],
   "source": [
    "names = ['connor', 'connor', 'bob', 'connor', 'evan', 'max', 'evan', 2, 2, 2, 3, 3, 4, 'bob', 'kevin']\n",
    "# Hint 1: You will need an append\n",
    "# Hint 2: Using an empty list will make life easier\n",
    "\n",
    "unique_names = []\n",
    "\n",
    "for n in names:\n",
    "    if type(n) == str:\n",
    "        n = n.title()\n",
    "    if n not in unique_names:\n",
    "        unique_names.append(n)\n",
    "    else:\n",
    "        continue\n",
    "        \n",
    "print(unique_names)"
   ]
  },
  {
   "cell_type": "markdown",
   "metadata": {},
   "source": [
    "### List Comprehensions <br>\n",
    "<p>Creating a quickly generated list to work with<br>*result*  = [*transform*    *iteration*         *filter*     ]</p>"
   ]
  },
  {
   "cell_type": "markdown",
   "metadata": {},
   "source": [
    "##### In a list comprehension we have a few pieces:\n",
    "1. The first is the counter/ variable - IN this the variable is x\n",
    "2. then we have a transform for the variable\n",
    "3. The finale part of a list comp is called the condition\n",
    "\n",
    "```python\n",
    "    [variable, transform, condition]\n",
    "```"
   ]
  },
  {
   "cell_type": "code",
   "execution_count": 2,
   "metadata": {},
   "outputs": [
    {
     "name": "stdout",
     "output_type": "stream",
     "text": [
      "[0, 1, 2, 3, 4, 5, 6, 7, 8, 9, 10, 11, 12, 13, 14, 15, 16, 17, 18, 19, 20, 21, 22, 23, 24, 25, 26, 27, 28, 29, 30, 31, 32, 33, 34, 35, 36, 37, 38, 39, 40, 41, 42, 43, 44, 45, 46, 47, 48, 49, 50, 51, 52, 53, 54, 55, 56, 57, 58, 59, 60, 61, 62, 63, 64, 65, 66, 67, 68, 69, 70, 71, 72, 73, 74, 75, 76, 77, 78, 79, 80, 81, 82, 83, 84, 85, 86, 87, 88, 89, 90, 91, 92, 93, 94, 95, 96, 97, 98, 99]\n",
      "[0, 1, 2, 3, 4, 5, 6, 7, 8, 9, 10, 11, 12, 13, 14, 15, 16, 17, 18, 19, 20, 21, 22, 23, 24, 25, 26, 27, 28, 29, 30, 31, 32, 33, 34, 35, 36, 37, 38, 39, 40, 41, 42, 43, 44, 45, 46, 47, 48, 49, 50, 51, 52, 53, 54, 55, 56, 57, 58, 59, 60, 61, 62, 63, 64, 65, 66, 67, 68, 69, 70, 71, 72, 73, 74, 75, 76, 77, 78, 79, 80, 81, 82, 83, 84, 85, 86, 87, 88, 89, 90, 91, 92, 93, 94, 95, 96, 97, 98, 99]\n"
     ]
    }
   ],
   "source": [
    "# number comprehension\n",
    "\n",
    "# With a regular for loop\n",
    "numbers = []\n",
    "for num in range(100):\n",
    "    numbers.append(num)\n",
    "print(numbers)\n",
    "\n",
    "# IN a list comprehension we have a few pieces:\n",
    "# The first is the counter/ variable - IN this the variable is x\n",
    "# Then we have a transform for the variable \n",
    "# The finale part of a list comp is called the condition\n",
    "#[variable, transform, condition]\n",
    "\n",
    "numbers2 = [num for num in range(100) if num % 2 == 0]\n",
    "print(numbers2)\n",
    "\n"
   ]
  },
  {
   "cell_type": "markdown",
   "metadata": {},
   "source": [
    "There are a few benefits to using List comprehensions. The most obvious would be that we now have shorter code to work with instead of using 3+ lines of code in the for loop variant.\n",
    "\n",
    "Another is an added benefit to memory usage. Since the list's memory is allocated first before adding elements to it, we don't have to resize the list once we add elements to it.\n",
    "\n",
    "Lastly, list comprehensions are considered the \"pythonic\" way to write code by the PEP8 standards (Python Style Guide)"
   ]
  },
  {
   "cell_type": "code",
   "execution_count": 4,
   "metadata": {},
   "outputs": [
    {
     "name": "stdout",
     "output_type": "stream",
     "text": [
      "[0, 1, 4, 9, 16, 25, 36, 49, 64, 81, 100, 121, 144, 169, 196, 225, 256, 289, 324, 361, 400]\n"
     ]
    }
   ],
   "source": [
    "# square number comprehension\n",
    "\n",
    "sqNumbers = [num**2 for num in range(21)]\n",
    "print(sqNumbers)"
   ]
  },
  {
   "cell_type": "code",
   "execution_count": 6,
   "metadata": {},
   "outputs": [
    {
     "name": "stdout",
     "output_type": "stream",
     "text": [
      "['o', 'j', 'u', 'j', 'j']\n",
      "['o', 'j', 'u', 'j', 'j']\n"
     ]
    }
   ],
   "source": [
    "# string comprehension\n",
    "\n",
    "names = ['oryan', 'jordan', 'usman', 'james', 'john']\n",
    "\n",
    "first_letters = [name[0] for name in names]\n",
    "print(first_letters)\n",
    "\n",
    "first_letters2 = []\n",
    "for name in names:\n",
    "    first_letters2.append(name[0])\n",
    "print(first_letters2)"
   ]
  },
  {
   "cell_type": "code",
   "execution_count": 9,
   "metadata": {},
   "outputs": [
    {
     "name": "stdout",
     "output_type": "stream",
     "text": [
      "['jordan', 'james', 'john']\n",
      "['jordan', 'james', 'john']\n"
     ]
    }
   ],
   "source": [
    "j_names = [name for name in names if name[0].lower() == 'j']\n",
    "print(j_names)\n",
    "\n",
    "j_names2 = []\n",
    "for name in names:\n",
    "    if name[0].lower() == 'j':\n",
    "        j_names2.append(name)\n",
    "print(j_names2)"
   ]
  },
  {
   "cell_type": "code",
   "execution_count": null,
   "metadata": {},
   "outputs": [],
   "source": []
  },
  {
   "cell_type": "markdown",
   "metadata": {},
   "source": [
    "### Tuples <br>\n",
    "<p><b>Defined as an immutable list</b></p><br>Seperated by commas using parenthesis"
   ]
  },
  {
   "cell_type": "code",
   "execution_count": 16,
   "metadata": {},
   "outputs": [
    {
     "name": "stdout",
     "output_type": "stream",
     "text": [
      "<class 'tuple'>\n",
      "True\n",
      "1\n",
      "2\n",
      "3\n"
     ]
    }
   ],
   "source": [
    "tup1 = 1, 2, 3\n",
    "print(type(tup1))\n",
    "\n",
    "tup2 = (1, 2, 3)\n",
    "print(isinstance(tup2, tuple))\n",
    "\n",
    "# print(tup2[0])\n",
    "\n",
    "# print(len(tup1))\n",
    "\n",
    "# for num in tup1:\n",
    "#     print(num)\n",
    "\n",
    "for i in range(len(tup1)):\n",
    "    print(tup1[i])"
   ]
  },
  {
   "cell_type": "markdown",
   "metadata": {},
   "source": [
    "##### sorted()"
   ]
  },
  {
   "cell_type": "code",
   "execution_count": 21,
   "metadata": {},
   "outputs": [
    {
     "name": "stdout",
     "output_type": "stream",
     "text": [
      "[1, 24, 44, 77, 90, 100]\n",
      "(77, 24, 90, 1, 44, 100, 5, 9, 10)\n"
     ]
    }
   ],
   "source": [
    "tup3 = 77, 24, 90, 1, 44, 100\n",
    "sorted_tup3 = sorted(tup3)\n",
    "\n",
    "print(sorted_tup3)\n",
    "\n",
    "random_list = [5, 9, 10]\n",
    "\n",
    "concat_tup = tup3 + tuple(random_list)\n",
    "\n",
    "print(concat_tup)"
   ]
  },
  {
   "cell_type": "markdown",
   "metadata": {},
   "source": [
    "##### Adding values to a Tuple"
   ]
  },
  {
   "cell_type": "code",
   "execution_count": 22,
   "metadata": {},
   "outputs": [
    {
     "name": "stdout",
     "output_type": "stream",
     "text": [
      "(1, 2, 3, 5)\n"
     ]
    }
   ],
   "source": [
    "new_tup = 1, 2, 3\n",
    "new_tup = new_tup + (5,)\n",
    "\n",
    "print(new_tup)"
   ]
  },
  {
   "cell_type": "markdown",
   "metadata": {},
   "source": [
    "## Functions"
   ]
  },
  {
   "cell_type": "markdown",
   "metadata": {},
   "source": [
    "##### User-Defined vs. Built-In Functions"
   ]
  },
  {
   "cell_type": "code",
   "execution_count": 24,
   "metadata": {},
   "outputs": [
    {
     "name": "stdout",
     "output_type": "stream",
     "text": [
      "Hello World\n"
     ]
    }
   ],
   "source": [
    "def say_hello():\n",
    "    return 'Hello World'\n",
    "\n",
    "print(say_hello())"
   ]
  },
  {
   "cell_type": "markdown",
   "metadata": {},
   "source": [
    "##### Accepting Parameters"
   ]
  },
  {
   "cell_type": "code",
   "execution_count": 26,
   "metadata": {},
   "outputs": [
    {
     "name": "stdout",
     "output_type": "stream",
     "text": [
      "Hello Lucas Lang\n"
     ]
    }
   ],
   "source": [
    "def print_full_name(f_name, l_name):\n",
    "    return f'Hello {f_name} {l_name}'\n",
    "\n",
    "print(print_full_name('Lucas', 'Lang'))"
   ]
  },
  {
   "cell_type": "markdown",
   "metadata": {},
   "source": [
    "##### Default Parameters"
   ]
  },
  {
   "cell_type": "code",
   "execution_count": 28,
   "metadata": {},
   "outputs": [
    {
     "name": "stdout",
     "output_type": "stream",
     "text": [
      "Hello James Bond\n"
     ]
    }
   ],
   "source": [
    "def printAgentName(firstName, lastName='Bond'):\n",
    "    return f'Hello {firstName} {lastName}'\n",
    "\n",
    "print(printAgentName('James'))\n",
    "\n",
    "# Defaults need to be at the end, don't do this:\n",
    "# def printAgentName2(lastName='Bond', firstName):\n",
    "#     return f'Hello {firstName} {lastName}'"
   ]
  },
  {
   "cell_type": "markdown",
   "metadata": {},
   "source": [
    "##### Making an Argument Optional"
   ]
  },
  {
   "cell_type": "code",
   "execution_count": 30,
   "metadata": {},
   "outputs": [
    {
     "name": "stdout",
     "output_type": "stream",
     "text": [
      "Hello Bob  Smith\n"
     ]
    }
   ],
   "source": [
    "def printHorseName(first, middle = '', last='Ed'):\n",
    "    return f'Hello {first} {middle} {last}'\n",
    "\n",
    "print(printHorseName('Bob', last = 'Smith'))"
   ]
  },
  {
   "cell_type": "markdown",
   "metadata": {},
   "source": [
    "##### Keyword Arguments"
   ]
  },
  {
   "cell_type": "code",
   "execution_count": 33,
   "metadata": {},
   "outputs": [
    {
     "name": "stdout",
     "output_type": "stream",
     "text": [
      "ironman and superpower is super strength\n"
     ]
    }
   ],
   "source": [
    "# last_name='Max', first_name='Smith' in the function call\n",
    "\n",
    "# see above\n",
    "\n",
    "def super_hero_power(name, power = 'flying'):\n",
    "    return f'{name} and superpower is {power}'\n",
    "print(super_hero_power('ironman', power = 'super strength'))"
   ]
  },
  {
   "cell_type": "markdown",
   "metadata": {},
   "source": [
    "# Creating a start, stop, step function"
   ]
  },
  {
   "cell_type": "code",
   "execution_count": 4,
   "metadata": {},
   "outputs": [
    {
     "name": "stdout",
     "output_type": "stream",
     "text": [
      "[1, 3, 5, 7, 9, 11, 13, 15, 17, 19]\n",
      "None\n"
     ]
    }
   ],
   "source": [
    "results = []\n",
    "def online_playback(stop, start = 0, step = 1):\n",
    "    while stop > start:\n",
    "        results.append(start)\n",
    "        start += step\n",
    "    print(results)\n",
    "    \n",
    "print(online_playback(20, 1, 2))"
   ]
  },
  {
   "cell_type": "markdown",
   "metadata": {},
   "source": [
    "##### Returning Values"
   ]
  },
  {
   "cell_type": "code",
   "execution_count": 6,
   "metadata": {},
   "outputs": [
    {
     "name": "stdout",
     "output_type": "stream",
     "text": [
      "12\n"
     ]
    }
   ],
   "source": [
    "def add_nums(num1, num2):\n",
    "    return num1 + num2\n",
    "\n",
    "added_nums = add_nums(5, 7)\n",
    "print(added_nums)"
   ]
  },
  {
   "cell_type": "markdown",
   "metadata": {},
   "source": [
    "##### *args"
   ]
  },
  {
   "cell_type": "code",
   "execution_count": 9,
   "metadata": {},
   "outputs": [
    {
     "name": "stdout",
     "output_type": "stream",
     "text": [
      "23\n",
      "('Dragonzord', 'Vanilla', 2, 3)\n",
      "Dragonzord\n",
      "Vanilla\n",
      "2\n",
      "3\n",
      "23\n",
      "{'day': 'Tuesday', 'template': 'CDN'}\n",
      "day\n",
      "Tuesday\n",
      "template\n",
      "CDN\n"
     ]
    }
   ],
   "source": [
    "def print_args(num, *args):\n",
    "    print(num)\n",
    "    print(args)\n",
    "    \n",
    "    for arg in args:\n",
    "        print(arg)\n",
    "        \n",
    "print_args(23, 'Dragonzord', 'Vanilla', 2, 3)\n",
    "\n",
    "def print_kwargs(num, **kwargs):\n",
    "    print(num)\n",
    "    print(kwargs)\n",
    "    \n",
    "    for kwarg in kwargs:\n",
    "        print(kwarg)\n",
    "        print(kwargs[kwarg])\n",
    "        \n",
    "print_kwargs(23, day = \"Tuesday\", template = \"CDN\")"
   ]
  },
  {
   "cell_type": "markdown",
   "metadata": {},
   "source": [
    "##### Docstring"
   ]
  },
  {
   "cell_type": "code",
   "execution_count": 11,
   "metadata": {},
   "outputs": [
    {
     "name": "stdout",
     "output_type": "stream",
     "text": [
      "George\n",
      "Ramon\n",
      "Peter\n",
      "Help on function print_names in module __main__:\n",
      "\n",
      "print_names(list_names)\n",
      "    print_names(list_names)\n",
      "    Function requires a list to be passed as a parameter and will print the contents of the list.\n",
      "    Specting a list of names(strings) to be passed.\n",
      "\n"
     ]
    }
   ],
   "source": [
    "def print_names(list_names):\n",
    "    \"\"\"\n",
    "        print_names(list_names)\n",
    "        Function requires a list to be passed as a parameter and will print the contents of the list.\n",
    "        Specting a list of names(strings) to be passed.\n",
    "    \"\"\"\n",
    "    for name in list_names:\n",
    "        print(name)\n",
    "\n",
    "print_names(['George', 'Ramon', 'Peter'])\n",
    "\n",
    "help(print_names)"
   ]
  },
  {
   "cell_type": "markdown",
   "metadata": {},
   "source": [
    "##### Using a User Function in a Loop"
   ]
  },
  {
   "cell_type": "code",
   "execution_count": 1,
   "metadata": {},
   "outputs": [
    {
     "name": "stdout",
     "output_type": "stream",
     "text": [
      "What would you like to do?play\n",
      "play\n",
      "Still going or are you done?no\n",
      "Enjoy\n",
      "What would you like to do?play again\n",
      "play again\n",
      "Still going or are you done?done\n"
     ]
    }
   ],
   "source": [
    "def print_input(answer):\n",
    "    print(answer)\n",
    "    \n",
    "# response = input('Are you ready to quit?')\n",
    "\n",
    "while True:\n",
    "    ask = input('What would you like to do?')\n",
    "    print_input(ask)\n",
    "    \n",
    "    response = input('Still going or are you done?')\n",
    "    if response.lower() == 'done':\n",
    "        break\n",
    "    print('Enjoy')"
   ]
  },
  {
   "cell_type": "markdown",
   "metadata": {},
   "source": [
    "## Function Exercise <br>\n",
    "<p>Write a function that loops through a list of first_names and a list of last_names, combines the two and return a list of full_names</p>"
   ]
  },
  {
   "cell_type": "code",
   "execution_count": 6,
   "metadata": {},
   "outputs": [],
   "source": [
    "first_name = ['John', 'Evan', 'Jordan', 'Max']\n",
    "last_name = ['Smith', 'Smith', 'Williams', 'Bell']\n",
    "\n",
    "# Output: ['John Smith', 'Evan Smith', 'Jordan Williams', 'Max Bell']\n",
    "\n",
    "# full_names = []\n",
    "# def get_full_names(fName, lName):\n",
    "#     for n in range(len(fName)):\n",
    "#         f_name = fName[n]\n",
    "#         l_name = lName[n]\n",
    "#         full_names.append(f_name + ' ' + l_name)\n",
    "#     return full_names\n",
    "\n",
    "def get_full_names(f_name, l_name):\n",
    "    return [f'{f_name[i]} {l_name[i]}' for i in range(len(f_name))]\n",
    "print(get_full_names(first_name, last_name))"
   ]
  },
  {
   "cell_type": "markdown",
   "metadata": {},
   "source": [
    "## Scope <br>\n",
    "<p>Scope refers to the ability to access variables, different types of scope include:<br>a) Global<br>b) Function (local)<br>c) Class (local)</p>"
   ]
  },
  {
   "cell_type": "code",
   "execution_count": 10,
   "metadata": {},
   "outputs": [
    {
     "name": "stdout",
     "output_type": "stream",
     "text": [
      "['John Smith', 'Evan Smith', 'Jordan Williams', 'Max Bell']\n",
      "['John Smith', 'Evan Smith', 'Jordan Williams', 'Max Bell']\n"
     ]
    }
   ],
   "source": [
    "# full_names local scope\n",
    "def get_full_names2(f_name, l_name):\n",
    "    full_names2 = []\n",
    "    for i in range(len(f_name)):\n",
    "        full_names2.append(f'{f_name[i]} {l_name[i]}')\n",
    "    return full_names2\n",
    "# print(get_full_names(first_name, last_name))\n",
    "# print(full_names2)\n",
    "\n",
    "full_names3 = []\n",
    "def get_full_names3(f_name, l_name):\n",
    "    for i in range(len(f_name)):\n",
    "        full_names3.append(f'{f_name[i]} {l_name[i]}')\n",
    "    return full_names3\n",
    "print(get_full_names3(first_name, last_name))\n",
    "print(full_names3)"
   ]
  },
  {
   "cell_type": "code",
   "execution_count": 12,
   "metadata": {},
   "outputs": [
    {
     "name": "stdout",
     "output_type": "stream",
     "text": [
      "6\n",
      "3\n"
     ]
    }
   ],
   "source": [
    "num = 3\n",
    "def myFunc():\n",
    "    num = 6\n",
    "    return num\n",
    "\n",
    "print(myFunc())\n",
    "print(num)"
   ]
  },
  {
   "cell_type": "code",
   "execution_count": 14,
   "metadata": {},
   "outputs": [
    {
     "name": "stdout",
     "output_type": "stream",
     "text": [
      "[2, 4, 6, 8]\n"
     ]
    }
   ],
   "source": [
    "evens = []\n",
    "def even3(num_list):\n",
    "    for num in num_list:\n",
    "        if num % 2 == 0 and len(evens) < 3:\n",
    "            evens.append(num)\n",
    "    return evens\n",
    "print(even3([1, 2, 3, 4, 5, 6, 7, 8, 9]))\n",
    "\n",
    "print(even3([6, 7, 8, 9, 10, 11, 12, 13, 14]))"
   ]
  },
  {
   "cell_type": "markdown",
   "metadata": {},
   "source": [
    "# Exercises"
   ]
  },
  {
   "cell_type": "markdown",
   "metadata": {},
   "source": [
    "## Exercise 1 <br>\n",
    "<p>Given a list as a parameter,write a function that returns a list of numbers that are less than ten</b></i></p><br>\n",
    "<p> For example: Say your input parameter to the function is [1,11,14,5,8,9]...Your output should [1,5,8,9]</p>"
   ]
  },
  {
   "cell_type": "code",
   "execution_count": 3,
   "metadata": {},
   "outputs": [
    {
     "data": {
      "text/plain": [
       "[1, 5, 8, 9]"
      ]
     },
     "execution_count": 3,
     "metadata": {},
     "output_type": "execute_result"
    }
   ],
   "source": [
    "# Use the following list - [1,11,14,5,8,9]\n",
    "\n",
    "l_1 = [1,11,14,5,8,9]\n",
    "\n",
    "newList = []\n",
    "def under10(list):\n",
    "    for n in list:\n",
    "        if n < 10:\n",
    "            newList.append(n)\n",
    "    return newList\n",
    "\n",
    "under10(l_1)"
   ]
  },
  {
   "cell_type": "markdown",
   "metadata": {},
   "source": [
    "## Exercise 2 <br>\n",
    "<p>Write a function that takes in two lists and returns the two lists merged together and sorted<br>\n",
    "<b><i>Hint: You can use the .sort() method</i></b></p>"
   ]
  },
  {
   "cell_type": "code",
   "execution_count": 5,
   "metadata": {},
   "outputs": [
    {
     "data": {
      "text/plain": [
       "[1, 2, 3, 3, 4, 4, 5, 5, 6, 6, 7, 8, 10]"
      ]
     },
     "execution_count": 5,
     "metadata": {},
     "output_type": "execute_result"
    }
   ],
   "source": [
    "l_1 = [1,2,3,4,5,6]\n",
    "l_2 = [3,4,5,6,7,8,10]\n",
    "\n",
    "mergedList = []\n",
    "def mergeLists(list1, list2):\n",
    "    for n1 in list1:\n",
    "        mergedList.append(n1)\n",
    "    for n2 in list2:\n",
    "        mergedList.append(n2)\n",
    "    mergedList.sort()\n",
    "    return mergedList\n",
    "mergeLists(l_1, l_2)"
   ]
  },
  {
   "cell_type": "code",
   "execution_count": 6,
   "metadata": {},
   "outputs": [
    {
     "data": {
      "text/plain": [
       "[1, 2, 3, 4, 5, 6, 7, 8, 10]"
      ]
     },
     "execution_count": 6,
     "metadata": {},
     "output_type": "execute_result"
    }
   ],
   "source": [
    "# Bonus code to only merge unique numbers from 2 lists and sorted\n",
    "mergedList = []\n",
    "def mergeLists(list1, list2):\n",
    "    for n1 in list1:\n",
    "        if n1 not in mergedList:\n",
    "            mergedList.append(n1)\n",
    "    for n2 in list2:\n",
    "        if n2 not in mergedList:\n",
    "            mergedList.append(n2)\n",
    "    mergedList.sort()\n",
    "    return mergedList\n",
    "mergeLists(l_1, l_2)"
   ]
  },
  {
   "cell_type": "code",
   "execution_count": null,
   "metadata": {},
   "outputs": [],
   "source": []
  }
 ],
 "metadata": {
  "kernelspec": {
   "display_name": "Python 3 (ipykernel)",
   "language": "python",
   "name": "python3"
  },
  "language_info": {
   "codemirror_mode": {
    "name": "ipython",
    "version": 3
   },
   "file_extension": ".py",
   "mimetype": "text/x-python",
   "name": "python",
   "nbconvert_exporter": "python",
   "pygments_lexer": "ipython3",
   "version": "3.10.8"
  }
 },
 "nbformat": 4,
 "nbformat_minor": 2
}
